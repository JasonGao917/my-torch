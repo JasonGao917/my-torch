{
  "cells": [
    {
      "cell_type": "markdown",
      "metadata": {
        "id": "8XpNMS7Vk6Df"
      },
      "source": [
        "# HW4P2: Attention-based Speech Recognition\n",
        "\n",
        "<img src=\"https://cdn.shopify.com/s/files/1/0272/2080/3722/products/SmileBumperSticker_5400x.jpg\" alt=\"A cute cat\" width=\"600\">\n",
        "\n",
        "\n",
        "Welcome to the final assignment in 11785. In this HW, you will work on building a speech recognition system with <i>attention</i>. <br> <br>\n",
        "\n",
        "<center>\n",
        "<img src=\"https://popmn.org/wp-content/uploads/2020/03/pay-attention.jpg\" alt=\"A cute cat\" height=\"100\">\n",
        "</center>\n",
        "\n",
        "HW Writeup: On Piazza/Course Website <br>\n",
        "Kaggle Competition Link: https://www.kaggle.com/competitions/11-785-s23-hw4p2/ <br>\n",
        "Kaggle Dataset Link: https://www.kaggle.com/datasets/varunjain3/11-785-s23-hw4p2-dataset\n",
        "<br>\n",
        "LAS Paper: https://arxiv.org/pdf/1508.01211.pdf <br>\n",
        "Attention is all you need:https://arxiv.org/pdf/1706.03762.pdf"
      ]
    },
    {
      "cell_type": "markdown",
      "metadata": {
        "id": "vwIdDTTmmZVe"
      },
      "source": [
        "# Read this section importantly!"
      ]
    },
    {
      "cell_type": "markdown",
      "metadata": {
        "id": "y9qsVrRemgh7"
      },
      "source": [
        "1. By now, we believe that you are already a great deep learning practitioner, Congratulations. 🎉\n",
        "\n",
        "2. You are allowed to use code from your previous homeworks for this homework. We will only provide, aspects that are necessary and new with this homework. \n",
        "\n",
        "3. There are a lot of resources provided in this notebook, that will help you check if you are running your implementations correctly."
      ]
    },
    {
      "cell_type": "code",
      "execution_count": null,
      "metadata": {
        "id": "8UK7J-dp5iN5"
      },
      "outputs": [],
      "source": [
        "!nvidia-smi"
      ]
    },
    {
      "cell_type": "code",
      "execution_count": null,
      "metadata": {
        "id": "nYgaLmgy5iqR"
      },
      "outputs": [],
      "source": [
        "# Install some required libraries\n",
        "# Feel free to add more if you want\n",
        "!pip install -q python-levenshtein torchsummaryX wandb kaggle pytorch-nlp "
      ]
    },
    {
      "cell_type": "code",
      "execution_count": null,
      "metadata": {
        "id": "QdLPutejcy-A"
      },
      "outputs": [],
      "source": [
        "from google.colab import drive\n",
        "drive.mount('/content/drive')"
      ]
    },
    {
      "cell_type": "code",
      "execution_count": null,
      "metadata": {
        "id": "HBG5ktXgADLN"
      },
      "outputs": [],
      "source": [
        "# Import Necessary Modules you require for this HW here\n",
        "!pip install wandb --quiet\n",
        "!pip install python-Levenshtein -q\n",
        "!git clone --recursive https://github.com/parlance/ctcdecode.git\n",
        "!pip install wget -q\n",
        "%cd ctcdecode\n",
        "!pip install . -q\n",
        "%cd ..\n",
        "\n",
        "!pip install torchsummaryX -q"
      ]
    },
    {
      "cell_type": "markdown",
      "metadata": {
        "id": "yEkA_GGG-tTB"
      },
      "source": [
        "# Imports"
      ]
    },
    {
      "cell_type": "code",
      "execution_count": null,
      "metadata": {
        "id": "p0aXmrxM-usO"
      },
      "outputs": [],
      "source": [
        "# Import Necessary Modules you require for this HW here\n",
        "import torch\n",
        "import random\n",
        "import numpy as np\n",
        "import torch.nn as nn\n",
        "import torch.nn.functional as F\n",
        "from torchsummaryX import summary\n",
        "from torch.utils.data import Dataset, DataLoader\n",
        "from torch.nn.utils.rnn import pad_sequence, pack_padded_sequence, pad_packed_sequence\n",
        "import torchaudio.transforms as tat\n",
        "import matplotlib.pyplot as plt\n",
        "import seaborn as sns\n",
        "from sklearn.metrics import accuracy_score\n",
        "import gc\n",
        "\n",
        "import zipfile\n",
        "import pandas as pd\n",
        "from tqdm import tqdm\n",
        "import os\n",
        "import datetime\n",
        "\n",
        "# imports for decoding and distance calculation\n",
        "import ctcdecode\n",
        "import Levenshtein\n",
        "from ctcdecode import CTCBeamDecoder\n",
        "\n",
        "import warnings\n",
        "warnings.filterwarnings('ignore')\n",
        "\n",
        "device = 'cuda' if torch.cuda.is_available() else 'cpu'\n",
        "print(\"Device: \", device)"
      ]
    },
    {
      "cell_type": "markdown",
      "metadata": {
        "id": "-njBvl2Opd6I"
      },
      "source": [
        "# Kaggle Dataset Download"
      ]
    },
    {
      "cell_type": "code",
      "execution_count": null,
      "metadata": {
        "id": "PTyWR2sIp0Ns"
      },
      "outputs": [],
      "source": [
        "api_token = '{\"username\":\"jasongao0917\",\"key\":\"9aaf0189605045a47217ffc7b87d06fc\"}'\n",
        "\n",
        "# set up kaggle.json\n",
        "# TODO: Use the same Kaggle code from HW1P2, HW2P2, HW3P2\n",
        "!mkdir /root/.kaggle/\n",
        "\n",
        "with open(\"/root/.kaggle/kaggle.json\", \"w+\") as f:\n",
        "    f.write(api_token) # Put your kaggle username & key here\n",
        "\n",
        "!chmod 600 /root/.kaggle/kaggle.json"
      ]
    },
    {
      "cell_type": "code",
      "execution_count": null,
      "metadata": {
        "id": "F581gjfnqE2C"
      },
      "outputs": [],
      "source": [
        "# To download the dataset\n",
        "!kaggle datasets download -d varunjain3/11-785-s23-hw4p2-dataset"
      ]
    },
    {
      "cell_type": "code",
      "execution_count": null,
      "metadata": {
        "id": "7ko7QN16qF2V"
      },
      "outputs": [],
      "source": [
        "# To unzip data quickly and quietly\n",
        "!unzip -q 11-785-s23-hw4p2-dataset.zip -d ./data"
      ]
    },
    {
      "cell_type": "markdown",
      "metadata": {
        "id": "zUJyBBwIqQs6"
      },
      "source": [
        "# Dataset and Dataloaders\n",
        "\n",
        "We have given you 2 datasets. One is a toy dataset, and the other is the standard LibriSpeech dataset. The toy dataset is to help you get your code implemented and tested and debugged easily, to verify that your attention diagonal is produced correctly. Note however that it's task (phonetic transcription) is drawn from HW3P2, it is meant to be familiar and help you understand how to transition from phonetic transcription to alphabet transcription, with a working attention module.\n",
        "\n",
        "Please make sure you use the right constants in your code implementation for future modules, (SOS_TOKEN vs SOS_TOKEN_TOY) when working with either dataset. We have defined the constants accordingly below. Before you come to OH or post on piazza, make sure you aren't misuing the constants for either dataset in your code. "
      ]
    },
    {
      "cell_type": "markdown",
      "metadata": {
        "id": "1sjsbFuKWp7q"
      },
      "source": [
        "## LibriSpeech\n",
        "\n",
        "In terms of the dataset, the dataset structure for HW3P2 and HW4P2 dataset are very similar. Can you spot out the differences? What all will be required?? \n",
        "\n",
        "Hints:\n",
        "\n",
        "- Check how big is the dataset (do you require memory efficient loading techniques??)\n",
        "- How do we load mfccs? Do we need to normalise them? \n",
        "- Does the data have \\<SOS> and \\<EOS> tokens in each sequences? Do we remove them or do we not remove them? (Read writeup)\n",
        "- Would we want a collating function? Ask yourself: Why did we need a collate function last time?\n",
        "- Observe the VOCAB, is the dataset same as HW3P2? \n",
        "- Should you add augmentations, if yes which augmentations? When should you add augmentations? (Check bootcamp for answer)\n"
      ]
    },
    {
      "cell_type": "code",
      "execution_count": null,
      "metadata": {
        "colab": {
          "base_uri": "https://localhost:8080/"
        },
        "id": "MBMLGYX-kZcd",
        "outputId": "9a8c6e4b-326d-4a66-9780-45cfa1327e43"
      },
      "outputs": [
        {
          "name": "stdout",
          "output_type": "stream",
          "text": [
            "Length of vocab: 31\n",
            "Vocab: ['<pad>', '<sos>', '<eos>', 'A', 'B', 'C', 'D', 'E', 'F', 'G', 'H', 'I', 'J', 'K', 'L', 'M', 'N', 'O', 'P', 'Q', 'R', 'S', 'T', 'U', 'V', 'W', 'X', 'Y', 'Z', \"'\", ' ']\n",
            "PAD_TOKEN: 0\n",
            "SOS_TOKEN: 1\n",
            "EOS_TOKEN: 2\n"
          ]
        }
      ],
      "source": [
        "config = {\n",
        "  'batch_size': 256,\n",
        "  'lr':1e-3,\n",
        "  'epochs': 120,\n",
        "}\n",
        "\n",
        "VOCAB = ['<pad>', '<sos>', '<eos>', \n",
        "         'A',   'B',    'C',    'D',    \n",
        "         'E',   'F',    'G',    'H',    \n",
        "         'I',   'J',    'K',    'L',       \n",
        "         'M',   'N',    'O',    'P',    \n",
        "         'Q',   'R',    'S',    'T', \n",
        "         'U',   'V',    'W',    'X', \n",
        "         'Y',   'Z',    \"'\",    ' ', \n",
        "         ]\n",
        "\n",
        "VOCAB_MAP = {VOCAB[i]:i for i in range(0, len(VOCAB))}\n",
        "\n",
        "PAD_TOKEN = VOCAB_MAP[\"<pad>\"]\n",
        "SOS_TOKEN = VOCAB_MAP[\"<sos>\"]\n",
        "EOS_TOKEN = VOCAB_MAP[\"<eos>\"]\n",
        "\n",
        "print(f\"Length of vocab: {len(VOCAB)}\")\n",
        "print(f\"Vocab: {VOCAB}\")\n",
        "print(f\"PAD_TOKEN: {PAD_TOKEN}\")\n",
        "print(f\"SOS_TOKEN: {SOS_TOKEN}\")\n",
        "print(f\"EOS_TOKEN: {EOS_TOKEN}\")"
      ]
    },
    {
      "cell_type": "code",
      "execution_count": null,
      "metadata": {
        "id": "VuneWaTStdF2"
      },
      "outputs": [],
      "source": [
        "class SpeechDataset(torch.utils.data.Dataset):\n",
        "    def __init__(self, root, partition= \"train-clean-100\"): \n",
        "      # Load the directory and all files in them\n",
        "        self.mfcc_dir = root + partition + '/mfcc' #TODO\n",
        "        self.transcript_dir = root + partition + '/transcripts' #TODO\n",
        "        self.mfcc_files = sorted(os.listdir(self.mfcc_dir)) #TODO\n",
        "        self.transcript_files = sorted(os.listdir(self.transcript_dir)) #TODO\n",
        "        self.length = len(self.mfcc_files)\n",
        "        self.mfccs = []\n",
        "        self.transcripts = []\n",
        "        for i in range(len(self.mfcc_files)):\n",
        "            mfcc = np.load(self.mfcc_dir + '/' + self.mfcc_files[i])\n",
        "            transcript = np.load(self.transcript_dir + '/' + self.transcript_files[i])\n",
        "            # Cepstral Mean Normalization\n",
        "            mfcc_mean = np.mean(mfcc, axis = 0)\n",
        "            mfcc_std = np.std(mfcc, axis = 0)\n",
        "            mfcc = (mfcc - mfcc_mean)/mfcc_std\n",
        "            transcript = [VOCAB_MAP[label] for label in transcript]\n",
        "            self.mfccs.append(mfcc)\n",
        "            self.transcripts.append(transcript)\n",
        "\n",
        "    def __len__(self):\n",
        "        return self.length\n",
        "\n",
        "    def __getitem__(self, ind):\n",
        "        mfcc = self.mfccs[ind] # TODO\n",
        "        mfcc = torch.FloatTensor(mfcc)\n",
        "        transcript = self.transcripts[ind] # TODO\n",
        "        transcript = torch.tensor(transcript)\n",
        "        return mfcc, transcript\n",
        "\n",
        "\n",
        "    def collate_fn(self, batch):\n",
        "        batch_mfcc = [mfcc[0] for mfcc in batch]  # TODO\n",
        "        batch_transcript = [mfcc[1] for mfcc in batch]  # TODO\n",
        "        batch_mfcc_pad = pad_sequence(batch_mfcc, batch_first=True, padding_value=0) # TODO\n",
        "        lengths_mfcc = [len(mfcc) for mfcc in batch_mfcc] # TODO \n",
        "        batch_transcript_pad = pad_sequence(batch_transcript, batch_first=True, padding_value=0) # TODO\n",
        "        lengths_transcript = [len(transcript) for transcript in batch_transcript] # TODO\n",
        "        return batch_mfcc_pad, batch_transcript_pad, torch.tensor(lengths_mfcc), torch.tensor(lengths_transcript)    "
      ]
    },
    {
      "cell_type": "code",
      "execution_count": null,
      "metadata": {
        "id": "hDESEH9WDAZO"
      },
      "outputs": [],
      "source": [
        "# Test Dataloader\n",
        "class SpeechDatasetTest(torch.utils.data.Dataset):\n",
        "  def __init__(self, root, partition = 'test-clean'):\n",
        "        self.mfcc_dir = root + partition + '/mfcc' \n",
        "        self.mfcc_files = sorted(os.listdir(self.mfcc_dir))\n",
        "        self.length = len(self.mfcc_files)\n",
        "        self.mfccs = []\n",
        "        for i in range(len(self.mfcc_files)):\n",
        "            mfcc = np.load(self.mfcc_dir + '/' + self.mfcc_files[i])\n",
        "            # Cepstral Mean Normalization\n",
        "            mfcc_mean = np.mean(mfcc, axis = 0)\n",
        "            mfcc_std = np.std(mfcc, axis = 0)\n",
        "            mfcc = (mfcc - mfcc_mean)/mfcc_std\n",
        "            self.mfccs.append(mfcc)\n",
        "    \n",
        "  def __len__(self):\n",
        "        return self.length\n",
        "\n",
        "  def __getitem__(self, ind):\n",
        "        mfcc = self.mfccs[ind] # TODO\n",
        "        mfcc = torch.FloatTensor(mfcc)\n",
        "        return mfcc\n",
        "\n",
        "  def collate_fn(self, batch):\n",
        "    batch_mfcc_pad = pad_sequence(batch, batch_first=True, padding_value=0)\n",
        "    lengths_mfcc = [len(mfcc) for mfcc in batch]\n",
        "    return batch_mfcc_pad, torch.tensor(lengths_mfcc)"
      ]
    },
    {
      "cell_type": "code",
      "execution_count": null,
      "metadata": {
        "colab": {
          "base_uri": "https://localhost:8080/"
        },
        "id": "tzuIXCyAuNvo",
        "outputId": "a4ab7d42-52cf-4ff3-dff4-8f0ec55b9491"
      },
      "outputs": [
        {
          "name": "stdout",
          "output_type": "stream",
          "text": [
            "\n",
            "Checking the shapes of the data...\n",
            "torch.Size([256, 2936, 27]) torch.Size([256, 364]) torch.Size([256]) torch.Size([256])\n"
          ]
        }
      ],
      "source": [
        "root = '/content/data/'\n",
        "train_dataset = SpeechDataset(root, partition=\"train-clean-100\")\n",
        "dev_dataset = SpeechDataset(root, partition=\"dev-clean\")\n",
        "test_dataset = SpeechDatasetTest(root, partition=\"test-clean\")\n",
        "\n",
        "dev_loader = torch.utils.data.DataLoader(\n",
        "    dataset     = dev_dataset, \n",
        "    num_workers = 2,\n",
        "    batch_size  = config[\"batch_size\"], \n",
        "    pin_memory  = True,\n",
        "    shuffle     = False,\n",
        "    collate_fn = dev_dataset.collate_fn\n",
        ")\n",
        "\n",
        "train_loader = torch.utils.data.DataLoader(\n",
        "    dataset     = train_dataset, \n",
        "    num_workers = 4,\n",
        "    batch_size  = config[\"batch_size\"], \n",
        "    pin_memory  = True,\n",
        "    shuffle     = True,\n",
        "    collate_fn = train_dataset.collate_fn\n",
        ")\n",
        "\n",
        "test_loader = torch.utils.data.DataLoader(\n",
        "    dataset     = test_dataset, \n",
        "    num_workers = 2,\n",
        "    batch_size  = config[\"batch_size\"], \n",
        "    pin_memory  = True,\n",
        "    shuffle     = False,\n",
        "    collate_fn = test_dataset.collate_fn\n",
        ")\n",
        "\n",
        "print(\"\\nChecking the shapes of the data...\")\n",
        "for batch in dev_loader:\n",
        "    x, y, x_len, y_len = batch\n",
        "    print(x.shape, y.shape, x_len.shape, y_len.shape)\n",
        "    break"
      ]
    },
    {
      "cell_type": "markdown",
      "metadata": {
        "id": "i_n3pqt7ud4t"
      },
      "source": [
        "Check if you are loading the data correctly with the following:\n",
        "\n",
        "(Note: These are outputs from loading your data in the dataset class, not your dataloader which will have padded sequences)\n",
        "\n",
        "- Train Dataset\n",
        "```\n",
        "Partition loaded:  train-clean-100\n",
        "Max mfcc length:  2448\n",
        "Average mfcc length:  1264.6258453344547\n",
        "Max transcript:  400\n",
        "Average transcript length:  186.65321139493324\n",
        "```\n",
        "\n",
        "- Dev Dataset\n",
        "```\n",
        "Partition loaded:  dev-clean\n",
        "Max mfcc length:  3260\n",
        "Average mfcc length:  713.3570107288198\n",
        "Max transcript:  518\n",
        "Average transcript length:  108.71698113207547\n",
        "```\n",
        "\n",
        "- Test Dataset\n",
        "```\n",
        "Partition loaded:  test-clean\n",
        "Max mfcc length:  3491\n",
        "Average mfcc length:  738.2206106870229\n",
        "```\n",
        "\n",
        "If your values is not matching, read hints, think what could have gone wrong. Then approach TAs."
      ]
    },
    {
      "cell_type": "markdown",
      "metadata": {
        "id": "M8q9wt4TwzPt"
      },
      "source": [
        "# THE MODEL \n",
        "\n",
        "### Listen, Attend and Spell\n",
        "Listen, Attend and Spell (LAS) is a neural network model used for speech recognition and synthesis tasks.\n",
        "\n",
        "- LAS is designed to handle long input sequences and is robust to noisy speech signals.\n",
        "- LAS is known for its high accuracy and ability to improve over time with additional training data.\n",
        "- It consists of an <b>listener, an attender and a speller</b>, which work together to convert an input speech signal into a corresponding output text.\n",
        "\n",
        "#### The Dataflow:\n",
        "<center>\n",
        "<img src=\"https://github.com/varunjain3/11785_s23_h4p2/raw/main/DataFlow.png\" alt=\"data flow\" height=\"100\">\n",
        "</center>\n",
        "\n",
        "#### The Listener: \n",
        "- converts the input speech signal into a sequence of hidden states.\n",
        "\n",
        "#### The Attender:\n",
        "- Decides how the sequence of Encoder hidden state is propogated to decoder.\n",
        "\n",
        "#### The Speller:\n",
        "- A language model, that incorporates the \"context of attender\"(output of attender) to predict sequence of words.\n",
        "\n",
        "\n",
        "\n",
        "\n"
      ]
    },
    {
      "cell_type": "markdown",
      "metadata": {
        "id": "aPL08W_Z3R18"
      },
      "source": [
        "## The Listener:"
      ]
    },
    {
      "cell_type": "markdown",
      "metadata": {
        "id": "_ewKlVQF3edC"
      },
      "source": [
        "Psuedocode:\n",
        "```python\n",
        "class Listner:\n",
        "  def init():\n",
        "    feature_embedder = #Few layers of 1DConv-batchnorm-activation (Don't overdo)\n",
        "    pblstm_encoder = #Cascaded pblstm layers (Take pblstm from #HW3P2), \n",
        "    #can add more sequential lstms \n",
        "    dropout = #As per your liking\n",
        "\n",
        "  def forward(x,lx):\n",
        "    embedding = feature_embedder(x) #optional\n",
        "    encoding, encoding_len = pblstm_encoder(embedding/x,lx)\n",
        "    #Regularization if needed\n",
        "    return encoding, encoding_len\n",
        "```\n",
        "\n"
      ]
    },
    {
      "cell_type": "code",
      "execution_count": null,
      "metadata": {
        "id": "NVTyKD6BCLkO"
      },
      "outputs": [],
      "source": [
        "# reference: https://github.com/salesforce/awd-lstm-lm/blob/dfd3cb0235d2caf2847a4d53e1cbd495b781b5d2/locked_dropout.py#L5\n",
        "from torch.autograd import Variable\n",
        "class LockedDropout(nn.Module):\n",
        "    def __init__(self):\n",
        "        super().__init__()\n",
        "\n",
        "    def forward(self, x, dropout = 0.3):\n",
        "        if not self.training or not dropout:\n",
        "            return x\n",
        "        x_packed, x_length = pad_packed_sequence(x, batch_first=True)\n",
        "        mas = x_packed.data.new(x_packed.size(0), 1, x_packed.size(2)).bernoulli_(1-dropout)\n",
        "        mask = Variable(mas, requires_grad=False) / (1-dropout)\n",
        "        mask = mask.expand_as(x_packed)\n",
        "        x_packed = x_packed * mask\n",
        "        x = pack_padded_sequence(x_packed, x_length, enforce_sorted=False, batch_first=True)\n",
        "        return x"
      ]
    },
    {
      "cell_type": "code",
      "execution_count": null,
      "metadata": {
        "id": "VegUoko27fCl"
      },
      "outputs": [],
      "source": [
        "class PermuteBlock(torch.nn.Module):\n",
        "    def forward(self, x):\n",
        "      return x.transpose(1, 2)\n",
        "      \n",
        "class pBLSTM(torch.nn.Module):\n",
        "    def __init__(self, input_size, hidden_size):\n",
        "        super(pBLSTM, self).__init__()\n",
        "        self.blstm = nn.Sequential(nn.LSTM(input_size, hidden_size, num_layers=1, bidirectional=True, batch_first=True))\n",
        "\n",
        "    def forward(self, x_packed): \n",
        "        x_pads, x_lens = pad_packed_sequence(x_packed, batch_first=True)\n",
        "        x_pad, x_len = self.trunc_reshape(x_pads, x_lens)\n",
        "        x_padded = pack_padded_sequence(x_pad, x_len, batch_first=True, enforce_sorted=False)\n",
        "        output, _ = self.blstm(x_padded)\n",
        "        return output\n",
        "\n",
        "    def trunc_reshape(self, x, x_lens): \n",
        "        if x.shape[1] % 2 != 0:\n",
        "            x = x[:, :-1, :]\n",
        "        batch, length, dimension = x.shape\n",
        "        x = x.reshape(batch, length//2, dimension * 2)\n",
        "        x_lens //= 2\n",
        "        return x, x_lens"
      ]
    },
    {
      "cell_type": "code",
      "execution_count": null,
      "metadata": {
        "id": "_lDa-GR87nAN"
      },
      "outputs": [],
      "source": [
        "class Listener(torch.nn.Module):\n",
        "  def __init__(self, hidden_size):\n",
        "      super().__init__()\n",
        "      input_size = 27\n",
        "      complexity = 4\n",
        "      self.feature_embedder = torch.nn.LSTM(input_size, hidden_size, 3, batch_first=True, bidirectional=True)\n",
        "      self.pBLSTMs = nn.Sequential(pBLSTM(complexity * hidden_size, hidden_size), LockedDropout(), pBLSTM(complexity * hidden_size, hidden_size)\n",
        "      )\n",
        "\n",
        "  def forward(self,x, lx):\n",
        "        x = pack_padded_sequence(x, lx, batch_first=True, enforce_sorted=False)\n",
        "        x,_ = self.feature_embedder(x)\n",
        "        x = self.pBLSTMs(x)\n",
        "        encoding, encoding_len = pad_packed_sequence(x, batch_first=True)\n",
        "        return encoding, encoding_len"
      ]
    },
    {
      "cell_type": "markdown",
      "metadata": {
        "id": "5fG9jDZBVklL"
      },
      "source": [
        "## Attention\n",
        "\n",
        "### Different ways to compute Attention\n",
        "\n",
        "1. Dot-product attention\n",
        "    * raw_weights = bmm(key, query) \n",
        "    * Optional: Scaled dot-product by normalizing with sqrt key dimension \n",
        "    * Check \"Attention is All You Need\" Section 3.2.1\n",
        "    * 1st way is what most TAs are comfortable with, but if you want to explore, check out other methods below\n",
        "\n",
        "\n",
        "2. Cosine attention\n",
        "    * raw_weights = cosine(query, key) # almost the same as dot-product xD \n",
        "\n",
        "3. Bi-linear attention\n",
        "    * W = Linear transformation (learnable parameter): d_k -> d_q\n",
        "    * raw_weights = bmm(key @ W, query)\n",
        "\n",
        "4. Multi-layer perceptron\n",
        "    * Check \"Neural Machine Translation and Sequence-to-sequence Models: A Tutorial\" Section 8.4\n",
        "\n",
        "5. Multi-Head Attention\n",
        "    * Check \"Attention is All You Need\" Section 3.2.2\n",
        "    * h = Number of heads\n",
        "    * W_Q, W_K, W_V: Weight matrix for Q, K, V (h of them in total)\n",
        "    * W_O: d_v -> d_v\n",
        "    * Reshape K: (B, T, d_k) to (B, T, h, d_k // h) and transpose to (B, h, T, d_k // h)\n",
        "    * Reshape V: (B, T, d_v) to (B, T, h, d_v // h) and transpose to (B, h, T, d_v // h)\n",
        "    * Reshape Q: (B, d_q) to (B, h, d_q // h) `\n",
        "    * raw_weights = Q @ K^T\n",
        "    * masked_raw_weights = mask(raw_weights)\n",
        "    * attention = softmax(masked_raw_weights)\n",
        "    * multi_head = attention @ V\n",
        "    * multi_head = multi_head reshaped to (B, d_v)\n",
        "    * context = multi_head @ W_O"
      ]
    },
    {
      "cell_type": "markdown",
      "metadata": {
        "id": "QyO03fO5VotY"
      },
      "source": [
        "Pseudocode:\n",
        "\n",
        "```python\n",
        "class Attention:\n",
        "    '''\n",
        "    Attention is calculated using the key, value (from encoder embeddings) and query from decoder.\n",
        "\n",
        "    After obtaining the raw weights, compute and return attention weights and context as follows.:\n",
        "\n",
        "    attention_weights   = softmax(raw_weights)\n",
        "    attention_context   = einsum(\"thinkwhatwouldbetheequationhere\",attention, value) #take hint from raw_weights calculation\n",
        "\n",
        "    At the end, you can pass context through a linear layer too.\n",
        "    '''\n",
        "\n",
        "    def init(listener_hidden_size,\n",
        "              speller_hidden_size,\n",
        "              projection_size):\n",
        "\n",
        "        VW = Linear(listener_hidden_size,projection_size)\n",
        "        KW = Linear(listener_hidden_size,projection_size)\n",
        "        QW = Linear(speller_hidden_size,projection_size)\n",
        "\n",
        "    def set_key_value(encoder_outputs):\n",
        "        '''\n",
        "        In this function we take the encoder embeddings and make key and values from it.\n",
        "        key.shape   = (batch_size, timesteps, projection_size)\n",
        "        value.shape = (batch_size, timesteps, projection_size)\n",
        "        '''\n",
        "        key = KW(encoder_outputs)\n",
        "        value = VW(encoder_outputs)\n",
        "      \n",
        "    def compute_context(decoder_context):\n",
        "        '''\n",
        "        In this function from decoder context, we make the query, and then we\n",
        "         multiply the queries with the keys to find the attention logits, \n",
        "         finally we take a softmax to calculate attention energy which gets \n",
        "         multiplied to the generted values and then gets summed.\n",
        "\n",
        "        key.shape   = (batch_size, timesteps, projection_size)\n",
        "        value.shape = (batch_size, timesteps, projection_size)\n",
        "        query.shape = (batch_size, projection_size)\n",
        "\n",
        "        You are also recomended to check out Abu's Lecture 19 to understand Attention better.\n",
        "        '''\n",
        "        query = QW(decoder_context) #(batch_size, projection_size)\n",
        "\n",
        "        raw_weights = #using bmm or einsum. We need to perform batch matrix multiplication. It is important you do this step correctly.\n",
        "        #What will be the shape of raw_weights?\n",
        "\n",
        "        attention_weights = #What makes raw_weights -> attention_weights\n",
        "\n",
        "        attention_context = #Multiply attention weights to values\n",
        "\n",
        "        return attention_context, attention_weights \n",
        "```"
      ]
    },
    {
      "cell_type": "code",
      "execution_count": null,
      "metadata": {
        "id": "S2GaEA5V8A5x"
      },
      "outputs": [],
      "source": [
        "class Attention(torch.nn.Module):\n",
        "  def __init__(self, listener_hidden_size, speller_hidden_size, projection_size):\n",
        "    super().__init__()\n",
        "    new_lhs = 2 * listener_hidden_size\n",
        "    self.KW = torch.nn.Linear(new_lhs, projection_size)\n",
        "    self.VW = torch.nn.Linear(new_lhs, projection_size)\n",
        "\n",
        "  def set_key_value(self, encoder_outputs):\n",
        "    self.key = self.KW(encoder_outputs)\n",
        "    self.value = self.VW(encoder_outputs)\n",
        "  \n",
        "  def get_shape(self):\n",
        "    return self.key.shape\n",
        "\n",
        "  def compute_context(self, decoder_context, mask = None):\n",
        "    self.query = decoder_context\n",
        "    raw_weights = torch.bmm(self.key, self.query.unsqueeze(-1)).squeeze(-1)\n",
        "    dt = raw_weights.dtype\n",
        "    if mask != None:\n",
        "      mask = mask.to(device)\n",
        "      if dt == torch.float32:\n",
        "        val = -1e+30\n",
        "      else:\n",
        "        val = -1e+4\n",
        "      raw_weights.masked_fill_(mask, val)\n",
        "    attention_weights = torch.softmax(raw_weights, dim=1)\n",
        "    attention_context = torch.bmm(attention_weights.unsqueeze(1), self.value).squeeze(1)\n",
        "    return attention_context, attention_weights"
      ]
    },
    {
      "cell_type": "markdown",
      "metadata": {
        "id": "4Sp1WywZmm1L"
      },
      "source": [
        "## The Speller\n",
        "\n",
        "Similar to the language model that you coded up for HW4P1, you have to code a language model for HW4P2 as well. This time, we will also call the attention context step, within the decoder to get the attended-encoder-embeddings.\n",
        "\n",
        "\n",
        "What you have coded till now:\n",
        "\n",
        "<center>\n",
        "<img src=\"https://github.com/varunjain3/11785_s23_h4p2/raw/main/EncoderAttention.png\" alt=\"data flow\" height=\"400\">\n",
        "</center>\n",
        "\n",
        "For the Speller, what we have to code:\n",
        "\n",
        "\n",
        "<center>\n",
        "<img src=\"https://github.com/varunjain3/11785_s23_h4p2/raw/main/Decoder.png\" alt=\"data flow\" height=\"400\">\n",
        "</center>"
      ]
    },
    {
      "cell_type": "code",
      "execution_count": null,
      "metadata": {
        "id": "4YhT6Lnc8R59"
      },
      "outputs": [],
      "source": [
        "class Speller(torch.nn.Module):\n",
        "\n",
        "  # Refer to your HW4P1 implementation for help with setting up the language model.\n",
        "  # The only thing you need to implement on top of your HW4P1 model is the attention module and teacher forcing.\n",
        "\n",
        "  def __init__(self, attender:Attention, vocab_size, decoder_dim, embed_dim=256, proj_size=128):\n",
        "    super(). __init__()\n",
        "    self.attend = attender # Attention object in speller\n",
        "    self.max_timesteps = 550 # Max timesteps\n",
        "    self.embedding = torch.nn.Embedding(vocab_size, embed_dim)  # Embedding layer to convert token to latent space\n",
        "    self.embedding_dropout = torch.nn.Sequential(torch.nn.Dropout(0.25),torch.nn.Dropout(0.25))     \n",
        "    self.lstm_cells = torch.nn.Sequential(\n",
        "        torch.nn.LSTMCell(proj_size + embed_dim, decoder_dim), torch.nn.LSTMCell(decoder_dim, proj_size)\n",
        "    )\n",
        "\n",
        "    # For CDN (Feel free to change)\n",
        "    self.output_to_char = torch.nn.Linear(2 * proj_size, embed_dim)# Linear module to convert outputs to correct hidden size (Optional: TO make dimensions match)\n",
        "    self.activation = torch.nn.Tanh()# Check which activation is suggested\n",
        "    self.char_prob = torch.nn.Linear(embed_dim, vocab_size)# Linear layer to convert hidden space back to logits for token classification\n",
        "    self.char_prob.weight = self.embedding.weight# Weight tying (From embedding layer)\n",
        "\n",
        "\n",
        "  def lstm_step(self, input_word, hidden_state):\n",
        "\n",
        "    for i in range(len(self.lstm_cells)):\n",
        "        hidden_state[i] = self.lstm_cells[i](input_word, hidden_state[i])\n",
        "        input_word = hidden_state[i][0]\n",
        "    return input_word, hidden_state\n",
        "    \n",
        "  def CDN(self, input):\n",
        "    # Make the CDN here, you can add the output-to-char\n",
        "    output = self.output_to_char(input)\n",
        "    output = self.activation(output)\n",
        "    output = self.char_prob(output)\n",
        "    return output\n",
        "    \n",
        "  def forward (self, encoder_len, y = None, teacher_forcing_ratio=1, isGumble=True):\n",
        "    batch, length, value = self.attend.get_shape()\n",
        "    mask = torch.arange(length).unsqueeze(0) >= encoder_len.unsqueeze(1)\n",
        "    attn_context = torch.zeros(batch, value).to(device)# initial context tensor for time t = 0\n",
        "    output_symbol = torch.ones(batch,).long().to(device)# Set it to SOS for time t = 0\n",
        "    raw_outputs = []  \n",
        "    attention_plot = []\n",
        "    prediction = torch.zeros(batch, ).to(device)\n",
        "      \n",
        "    if y is None:\n",
        "      timesteps = self.max_timesteps\n",
        "      teacher_forcing_ratio = 0 #Why does it become zero?\n",
        "      isGumble=False\n",
        "\n",
        "    else:\n",
        "      timesteps = y.shape[1] # How many timesteps are we predicting for?\n",
        "\n",
        "    hidden_states_list = [None, None] # Initialize your hidden_states list here similar to HW4P1\n",
        "\n",
        "    for t in range(timesteps):\n",
        "      p = np.random.random() # generate a probability p between 0 and 1\n",
        "\n",
        "      if p < teacher_forcing_ratio and t > 0: # Why do we consider cases only when t > 0? What is considered when t == 0? Think.\n",
        "        output_symbol = y[:, t - 1].to(device) # Take from y, else draw from probability distribution\n",
        "\n",
        "\n",
        "      char_embed = self.embedding(output_symbol) # Embed the character symbol\n",
        "\n",
        "      # Concatenate the character embedding and context from attention, as shown in the diagram\n",
        "      lstm_input = torch.cat([char_embed, attn_context], dim = 1)\n",
        "\n",
        "      lstm_output, hidden_states_list = self.lstm_step(lstm_input, hidden_states_list) # Feed the input through LSTM Cells and attention.\n",
        "      # What should we retrieve from forward_step to prepare for the next timestep?\n",
        "\n",
        "      attn_context, attn_weights = self.attend.compute_context(lstm_output, mask) # Feed the resulting hidden state into attention\n",
        "\n",
        "      cdn_input = torch.cat((lstm_output, attn_context), dim=1) # TODO: You need to concatenate the context from the attention module with the LSTM output hidden state, as shown in the diagram\n",
        "\n",
        "      raw_pred = self.CDN(cdn_input) # call CDN with cdn_input\n",
        "\n",
        "      # Generate a prediction for this timestep and collect it in output_symbols\n",
        "      output_symbol = torch.argmax(raw_pred, dim = -1) # Draw correctly from raw_pred\n",
        "\n",
        "      raw_outputs.append(raw_pred) # for loss calculation\n",
        "      attention_plot.append(attn_weights) # for plotting attention plot\n",
        "\n",
        "    \n",
        "    attention_plot = torch.stack(attention_plot, dim=1)\n",
        "    raw_outputs = torch.stack(raw_outputs, dim=1)\n",
        "\n",
        "    return raw_outputs, attention_plot"
      ]
    },
    {
      "cell_type": "markdown",
      "metadata": {
        "id": "bgOQlDRI-E4z"
      },
      "source": [
        "## LAS"
      ]
    },
    {
      "cell_type": "markdown",
      "metadata": {
        "id": "ZuAjQFlTBVED"
      },
      "source": [
        "Here we finally build the LAS model, comibining the listener, attender and speller together, we have given a template, but you are free to read the paper and implement it yourself."
      ]
    },
    {
      "cell_type": "code",
      "execution_count": null,
      "metadata": {
        "id": "XWv3QMH48VxM"
      },
      "outputs": [],
      "source": [
        "class LAS(torch.nn.Module):\n",
        "  def __init__(self, vocab_size, encoder_size, decoder_size, projection_size): # add parameters\n",
        "    super().__init__()\n",
        "\n",
        "    # Pass the right parameters here\n",
        "    self.augmentations = torch.nn.Sequential(\n",
        "      PermuteBlock(),\n",
        "      tat.FrequencyMasking(freq_mask_param = 5),\n",
        "      tat.TimeMasking(time_mask_param = 250),\n",
        "      PermuteBlock(),\n",
        "    )\n",
        "    self.listener = Listener(encoder_size)\n",
        "    self.attend = Attention(encoder_size, decoder_size, projection_size)\n",
        "    self.speller = Speller(self.attend, vocab_size, decoder_size)\n",
        "\n",
        "  def forward(self, x, lx, y=None, teacher_forcing_ratio=1):\n",
        "    # Encode speech features\n",
        "    encoder_outputs, encoder_len = self.listener(x,lx)\n",
        "\n",
        "    # We want to compute keys and values ahead of the decoding step, as they are constant for all timesteps\n",
        "    # Set keys and values using the encoder outputs\n",
        "    self.attend.set_key_value(encoder_outputs)\n",
        "\n",
        "    # Decode text with the speller using context from the attention\n",
        "    raw_outputs, attention_plots = self.speller(encoder_len = encoder_len,y=y,teacher_forcing_ratio=teacher_forcing_ratio)\n",
        "\n",
        "    return raw_outputs, attention_plots"
      ]
    },
    {
      "cell_type": "markdown",
      "metadata": {
        "id": "bPZD3vqdUisj"
      },
      "source": [
        "# Model Setup "
      ]
    },
    {
      "cell_type": "code",
      "execution_count": null,
      "metadata": {
        "id": "-7f4OqW0Czzi"
      },
      "outputs": [],
      "source": [
        "# Baseline LAS has the following configuration:\n",
        "# Encoder bLSTM/pbLSTM Hidden Dimension of 512 (256 per direction)\n",
        "# Decoder Embedding Layer Dimension of 256\n",
        "# Decoder Hidden Dimension of 512 \n",
        "# Attention Projection Size of 128\n",
        "# Feel Free to Experiment with this \n",
        "\n",
        "model = LAS(\n",
        "    # Initialize your model \n",
        "    # Read the paper and think about what dimensions should be used\n",
        "    # You can experiment on these as well, but they are not requried for the early submission\n",
        "    # Remember that if you are using weight tying, some sizes need to be the same\n",
        "    vocab_size = len(VOCAB),\n",
        "    encoder_size = 512, \n",
        "    decoder_size = 512,\n",
        "    projection_size = 128\n",
        ")\n",
        "\n",
        "model = model.to(device)\n",
        "print(model)\n",
        "summary(model, x.float().to(device), x_len, y)"
      ]
    },
    {
      "cell_type": "markdown",
      "metadata": {
        "id": "23DMfXsaU6kj"
      },
      "source": [
        "# Loss Function, Optimizers, Scheduler"
      ]
    },
    {
      "cell_type": "code",
      "execution_count": null,
      "metadata": {
        "id": "216ukmHbU-ol"
      },
      "outputs": [],
      "source": [
        "optimizer   = torch.optim.Adam(model.parameters(), lr= config['lr']) # Feel free to experiment if needed\n",
        "criterion   = torch.nn.CrossEntropyLoss(reduction=\"mean\", ignore_index=PAD_TOKEN) #check how would you fill these values : https://pytorch.org/docs/stable/generated/torch.nn.CrossEntropyLoss.html\n",
        "scaler      = torch.cuda.amp.GradScaler()\n",
        "scheduler   = torch.optim.lr_scheduler.ReduceLROnPlateau(optimizer, mode=\"min\", factor = 0.5, patience=4,verbose=True)\n",
        "\n",
        "# Optional (but Recommended): Create a custom class for a Teacher Force Schedule"
      ]
    },
    {
      "cell_type": "markdown",
      "metadata": {
        "id": "ZWQnB8lUVY4f"
      },
      "source": [
        "# Levenshtein Distance"
      ]
    },
    {
      "cell_type": "code",
      "execution_count": null,
      "metadata": {
        "id": "rSsiCdxPVeZW"
      },
      "outputs": [],
      "source": [
        "# We have given you this utility function which takes a sequence of indices and converts them to a list of characters\n",
        "def indices_to_chars(indices, vocab):\n",
        "    tokens = []\n",
        "    for i in indices: # This loops through all the indices\n",
        "        if int(i) == SOS_TOKEN: # If SOS is encountered, dont add it to the final list\n",
        "            continue\n",
        "        elif int(i) == EOS_TOKEN: # If EOS is encountered, stop the decoding process\n",
        "            break\n",
        "        else:\n",
        "            tokens.append(vocab[int(i)])\n",
        "    return tokens\n",
        "\n",
        "# To make your life more easier, we have given the Levenshtein distantce / Edit distance calculation code\n",
        "def calc_edit_distance(predictions, y, ly, vocab, print_example= False):\n",
        "\n",
        "    dist                = 0\n",
        "    batch_size, seq_len = predictions.shape\n",
        "\n",
        "    for batch_idx in range(batch_size): \n",
        "\n",
        "        y_sliced    = indices_to_chars(y[batch_idx,0:ly[batch_idx]], vocab)\n",
        "        pred_sliced = indices_to_chars(predictions[batch_idx], vocab)\n",
        "\n",
        "        # Strings - When you are using characters from the AudioDataset\n",
        "        y_string    = ''.join(y_sliced)\n",
        "        pred_string = ''.join(pred_sliced)\n",
        "        \n",
        "        dist        += Levenshtein.distance(pred_string, y_string)\n",
        "        # Comment the above and uncomment below for toy dataset, as the toy dataset has a list of phonemes to compare\n",
        "        # dist      += Levenshtein.distance(y_sliced, pred_sliced)\n",
        "\n",
        "    if print_example: \n",
        "        # Print y_sliced and pred_sliced if you are using the toy dataset\n",
        "        print(\"Ground Truth : \", y_string)\n",
        "        print(\"Prediction   : \", pred_string)\n",
        "        \n",
        "    dist/=batch_size\n",
        "    return dist"
      ]
    },
    {
      "cell_type": "markdown",
      "metadata": {
        "id": "Pu4MrSMUUIyp"
      },
      "source": [
        "# Train and Validation functions \n"
      ]
    },
    {
      "cell_type": "code",
      "execution_count": null,
      "metadata": {
        "id": "6znMJ58HKxIj"
      },
      "outputs": [],
      "source": [
        "def train(model, dataloader, criterion, optimizer, teacher_forcing_rate):\n",
        "\n",
        "    model.train()\n",
        "    batch_bar = tqdm(total=len(dataloader), dynamic_ncols=True, leave=False, position=0, desc='Train')\n",
        "\n",
        "    running_loss        = 0.0\n",
        "    running_perplexity  = 0.0\n",
        "    \n",
        "    for i, (x, y, lx, ly) in enumerate(dataloader):\n",
        "\n",
        "        optimizer.zero_grad()\n",
        "\n",
        "        x, y, lx, ly = x.to(device), y.to(device), lx, ly\n",
        "\n",
        "        with torch.cuda.amp.autocast():\n",
        "\n",
        "            raw_predictions, attention_plot = model(x, lx, y= y, teacher_forcing_ratio= teacher_forcing_rate)\n",
        "\n",
        "            # Predictions are of Shape (batch_size, timesteps, vocab_size). \n",
        "            # Transcripts are of shape (batch_size, timesteps) Which means that you have batch_size amount of batches with timestep number of tokens.\n",
        "            # So in total, you have batch_size*timesteps amount of characters.\n",
        "            # Similarly, in predictions, you have batch_size*timesteps amount of probability distributions.\n",
        "            # How do you need to modify transcipts and predictions so that you can calculate the CrossEntropyLoss? Hint: Use Reshape/View and read the docs\n",
        "            # Also we recommend you plot the attention weights, you should get convergence in around 10 epochs, if not, there could be something wrong with \n",
        "            # your implementation\n",
        "            loss        =  criterion(raw_predictions.view(-1, raw_predictions.size(2)), y.flatten() )# TODO: Cross Entropy Loss\n",
        "            perplexity  = torch.exp(loss) # Perplexity is defined the exponential of the loss\n",
        "\n",
        "            running_loss        += loss.item()\n",
        "            running_perplexity  += perplexity.item()\n",
        "        \n",
        "        # Backward on the masked loss\n",
        "        scaler.scale(loss).backward()\n",
        "\n",
        "        # Optional: Use torch.nn.utils.clip_grad_norm to clip gradients to prevent them from exploding, if necessary\n",
        "        # If using with mixed precision, unscale the Optimizer First before doing gradient clipping\n",
        "        scaler.unscale_(optimizer)\n",
        "        torch.nn.utils.clip_grad_norm_(model.parameters(), 1.0)\n",
        "\n",
        "        \n",
        "        scaler.step(optimizer)\n",
        "        scaler.update()\n",
        "        \n",
        "\n",
        "        batch_bar.set_postfix(\n",
        "            loss=\"{:.04f}\".format(running_loss/(i+1)),\n",
        "            perplexity=\"{:.04f}\".format(running_perplexity/(i+1)),\n",
        "            lr=\"{:.04f}\".format(float(optimizer.param_groups[0]['lr'])),\n",
        "            tf_rate='{:.02f}'.format(teacher_forcing_rate))\n",
        "        batch_bar.update()\n",
        "\n",
        "        del x, y, lx, ly\n",
        "        torch.cuda.empty_cache()\n",
        "\n",
        "    running_loss /= len(dataloader)\n",
        "    running_perplexity /= len(dataloader)\n",
        "    batch_bar.close()\n",
        "\n",
        "    return running_loss, running_perplexity, attention_plot"
      ]
    },
    {
      "cell_type": "code",
      "execution_count": null,
      "metadata": {
        "id": "VcyF96ZnKyoa"
      },
      "outputs": [],
      "source": [
        "def validate(model, dataloader):\n",
        "\n",
        "    model.eval()\n",
        "\n",
        "    batch_bar = tqdm(total=len(dataloader), dynamic_ncols=True, position=0, leave=False, desc=\"Val\")\n",
        "\n",
        "    running_lev_dist = 0.0\n",
        "\n",
        "    for i, (x, y, lx, ly) in enumerate(dataloader):\n",
        "\n",
        "        x, y, lx, ly = x.to(device), y.to(device), lx, ly\n",
        "\n",
        "        with torch.inference_mode():\n",
        "            raw_predictions, attentions = model(x, lx, y = None)\n",
        "\n",
        "        # Greedy Decoding\n",
        "        greedy_predictions   =  torch.argmax(raw_predictions,dim=-1)  # TODO: How do you get the most likely character from each distribution in the batch?\n",
        "        # Calculate Levenshtein Distance\n",
        "        running_lev_dist    += calc_edit_distance(greedy_predictions, y, ly, VOCAB, print_example = False) # You can use print_example = True for one specific index i in your batches if you want\n",
        "\n",
        "        batch_bar.set_postfix(\n",
        "            dist=\"{:.04f}\".format(running_lev_dist/(i+1)))\n",
        "        batch_bar.update()\n",
        "\n",
        "        del x, y, lx, ly\n",
        "        torch.cuda.empty_cache()\n",
        "\n",
        "    batch_bar.close()\n",
        "    running_lev_dist /= len(dataloader)\n",
        "\n",
        "    return running_lev_dist"
      ]
    },
    {
      "cell_type": "markdown",
      "metadata": {
        "id": "JmZhxhNseaIr"
      },
      "source": [
        "# Experiment"
      ]
    },
    {
      "cell_type": "code",
      "execution_count": null,
      "metadata": {
        "id": "sZcCV2BIW2R6"
      },
      "outputs": [],
      "source": [
        "# Login to Wandb\n",
        "# Initialize your Wandb Run Here\n",
        "# Save your model architecture in a txt file, and save the file to Wandb\n",
        "import wandb\n",
        "wandb.login(key=\"06c8f81427188d28de31ac7bfe0ddeadd005abc3\") #API Key is in your wandb account, under settings (wandb.ai/settings)"
      ]
    },
    {
      "cell_type": "code",
      "execution_count": null,
      "metadata": {
        "id": "Ad4dVlY8EhpW"
      },
      "outputs": [],
      "source": [
        "# Create your wandb run\n",
        "run = wandb.init(\n",
        "    name = \"submission\", ## Wandb creates random run names if you skip this field\n",
        "    reinit = True, ### Allows reinitalizing runs when you re-run this cell\n",
        "    # run_id = ### Insert specific run id here if you want to resume a previous run\n",
        "    # resume = \"must\" ### You need this to resume previous runs, but comment out reinit = True when using this\n",
        "    project = \"hw4p2-ablations\", ### Project should be created in your wandb account \n",
        "    config = config ### Wandb Config for your run\n",
        ")"
      ]
    },
    {
      "cell_type": "code",
      "execution_count": null,
      "metadata": {
        "id": "IgJdA9jrZwid"
      },
      "outputs": [],
      "source": [
        "from matplotlib import pyplot as plt\n",
        "import seaborn as sns\n",
        "\n",
        "def plot_attention(attention): \n",
        "    plt.clf()\n",
        "    sns.heatmap(attention, cmap='GnBu')\n",
        "    plt.show()"
      ]
    },
    {
      "cell_type": "code",
      "execution_count": null,
      "metadata": {
        "id": "eyoIziIoEuOS"
      },
      "outputs": [],
      "source": [
        "def save_model(model, optimizer, scheduler, metric, epoch, path):\n",
        "    torch.save(\n",
        "        {'model_state_dict'         : model.state_dict(),\n",
        "         'optimizer_state_dict'     : optimizer.state_dict(),\n",
        "         'scheduler_state_dict'     : scheduler.state_dict(),\n",
        "         metric[0]                  : metric[1], \n",
        "         'epoch'                    : epoch}, \n",
        "         path\n",
        "    )\n",
        "\n",
        "def load_model(path, model, metric= 'valid_acc', optimizer= None, scheduler= None):\n",
        "\n",
        "    checkpoint = torch.load(path)\n",
        "    model.load_state_dict(checkpoint['model_state_dict'], strict = False)\n",
        "\n",
        "    if optimizer != None:\n",
        "        optimizer.load_state_dict(checkpoint['optimizer_state_dict'])\n",
        "    if scheduler != None:\n",
        "        scheduler.load_state_dict(checkpoint['scheduler_state_dict'])\n",
        "        \n",
        "    epoch   = checkpoint['epoch']\n",
        "    metric  = checkpoint[metric]\n",
        "\n",
        "    return [model, optimizer, scheduler, epoch, metric]"
      ]
    },
    {
      "cell_type": "code",
      "execution_count": null,
      "metadata": {
        "id": "nSOUaK06E47F"
      },
      "outputs": [],
      "source": [
        "last_epoch_completed = 0\n",
        "start = last_epoch_completed\n",
        "end = config[\"epochs\"]\n",
        "best_lev_dist =float(\"inf\")\n",
        "epoch_model_path = '/content/drive/MyDrive/hw4_epoch_model.pth'\n",
        "best_model_path = '/content/drive/MyDrive/hw4model_1.pth'"
      ]
    },
    {
      "cell_type": "code",
      "execution_count": null,
      "metadata": {
        "colab": {
          "base_uri": "https://localhost:8080/"
        },
        "id": "Gd79QuSvBeMy",
        "outputId": "9c8e31e5-909a-4424-de2a-524493fc5720"
      },
      "outputs": [
        {
          "name": "stderr",
          "output_type": "stream",
          "text": []
        },
        {
          "data": {
            "text/plain": [
              "1802"
            ]
          },
          "execution_count": 479,
          "metadata": {},
          "output_type": "execute_result"
        }
      ],
      "source": [
        "torch.cuda.empty_cache()\n",
        "gc.collect()"
      ]
    },
    {
      "cell_type": "code",
      "execution_count": null,
      "metadata": {
        "colab": {
          "background_save": true
        },
        "id": "lKkX1OzOK9kA"
      },
      "outputs": [],
      "source": [
        "tf_rate = 1.0\n",
        "\n",
        "for epoch in range(0, config['epochs']):\n",
        "    \n",
        "    print(\"\\nEpoch: {}/{}\".format(epoch, config['epochs']))\n",
        "\n",
        "    curr_lr = float(optimizer.param_groups[0]['lr'])\n",
        "    train_loss, running_perplexity, attention_plot = train(model, train_loader, criterion, optimizer, tf_rate) #TODO\n",
        "    valid_dist = validate(model, dev_loader)\n",
        "    if 10 > valid_dist:\n",
        "      scheduler.step(valid_dist)\n",
        "    if 80 > valid_dist and epoch % 6 == 0:\n",
        "      tf_rate = tf_rate - 0.05\n",
        "      tf_rate = max(0.4, tf_rate)\n",
        "    print(\"\\tTrain Loss {:.04f}\\t Learning Rate {:.07f}\".format(train_loss, curr_lr))\n",
        "    print(\"\\tVal Dist {:.04f}%\\t teaching rate {:.02f}\".format(valid_dist, tf_rate))\n",
        "\n",
        "    plot_attention(attention_plot[0].cpu().detach().numpy())\n",
        "\n",
        "    wandb.log({\n",
        "        'train_loss': train_loss,  \n",
        "        'valid_dist': valid_dist,\n",
        "        'lr'        : curr_lr\n",
        "    })\n",
        "    \n",
        "    save_model(model, optimizer, scheduler, ['valid_dist', valid_dist], epoch, epoch_model_path)\n",
        "    wandb.save(epoch_model_path)\n",
        "\n",
        "    if valid_dist <= best_lev_dist:\n",
        "        best_lev_dist = valid_dist\n",
        "        save_model(model, optimizer, scheduler, ['valid_dist', valid_dist], epoch, best_model_path)\n",
        "        wandb.save(best_model_path)\n",
        "        print(\"Saved best model\")"
      ]
    },
    {
      "cell_type": "code",
      "execution_count": null,
      "metadata": {
        "id": "xc5iefh2FJp6"
      },
      "outputs": [],
      "source": [
        "plot_attention(attention_plot[0].cpu().detach().numpy())"
      ]
    },
    {
      "cell_type": "markdown",
      "metadata": {
        "id": "hgFYFaBGeBqM"
      },
      "source": [
        "# Testing"
      ]
    },
    {
      "cell_type": "code",
      "execution_count": null,
      "metadata": {
        "colab": {
          "base_uri": "https://localhost:8080/"
        },
        "id": "VxEFx7ipeCqJ",
        "outputId": "57010845-1078-4e73-fb99-bc931674241b"
      },
      "outputs": [
        {
          "name": "stdout",
          "output_type": "stream",
          "text": [
            "Testing\n"
          ]
        },
        {
          "name": "stderr",
          "output_type": "stream",
          "text": [
            "\n",
            "  0%|          | 0/11 [00:00<?, ?it/s]\u001b[A\n",
            "  9%|▉         | 1/11 [00:03<00:31,  3.19s/it]\u001b[A\n",
            " 18%|█▊        | 2/11 [00:05<00:24,  2.75s/it]\u001b[A\n",
            " 27%|██▋       | 3/11 [00:07<00:20,  2.54s/it]\u001b[A\n",
            " 36%|███▋      | 4/11 [00:10<00:17,  2.48s/it]\u001b[A\n",
            " 45%|████▌     | 5/11 [00:12<00:14,  2.46s/it]\u001b[A\n",
            " 55%|█████▍    | 6/11 [00:14<00:11,  2.38s/it]\u001b[A\n",
            " 64%|██████▎   | 7/11 [00:17<00:09,  2.32s/it]\u001b[A\n",
            " 73%|███████▎  | 8/11 [00:19<00:06,  2.25s/it]\u001b[A\n",
            " 82%|████████▏ | 9/11 [00:21<00:04,  2.31s/it]\u001b[A\n",
            " 91%|█████████ | 10/11 [00:24<00:02,  2.31s/it]\u001b[A\n",
            "100%|██████████| 11/11 [00:25<00:00,  2.30s/it]\n"
          ]
        }
      ],
      "source": [
        "model.eval()\n",
        "final_predict = []\n",
        "print(\"Testing\")\n",
        "for data in tqdm(test_loader):\n",
        "\n",
        "    x, lx   = data\n",
        "    x       = x.to(device)\n",
        "\n",
        "    with torch.no_grad():\n",
        "        raw_predictions, attentions = model(x, lx)\n",
        "\n",
        "    greedy_predictions   =  torch.argmax(raw_predictions,dim=2)\n",
        "    for i in range(len(raw_predictions)):\n",
        "        string = indices_to_chars(greedy_predictions[i], VOCAB)\n",
        "        pred_str = \"\".join(string)\n",
        "        final_predict.append(pred_str)\n",
        "    \n",
        "    del x, lx, raw_predictions, attentions\n",
        "    torch.cuda.empty_cache()"
      ]
    },
    {
      "cell_type": "code",
      "execution_count": null,
      "metadata": {
        "id": "DpOCpWjIFs7g"
      },
      "outputs": [],
      "source": [
        "with open(\"submission.csv\", 'w') as f:\n",
        "    f.write(\"index,label\\n\")\n",
        "    for i, pred in enumerate(final_predict):\n",
        "        f.write(f\"{i},{pred}\\n\")"
      ]
    },
    {
      "cell_type": "code",
      "execution_count": null,
      "metadata": {
        "colab": {
          "base_uri": "https://localhost:8080/"
        },
        "id": "eVQoQpm2Fu22",
        "outputId": "26f52d87-8f02-4db7-b602-ed2c963209aa"
      },
      "outputs": [
        {
          "name": "stdout",
          "output_type": "stream",
          "text": [
            "100% 292k/292k [00:01<00:00, 193kB/s]\n",
            "Successfully submitted to Attention-Based Speech Recognition (Slack)"
          ]
        }
      ],
      "source": [
        "!kaggle competitions submit -c attention-based-speech-recognition-slack -f submission.csv -m \"Message\""
      ]
    }
  ],
  "metadata": {
    "accelerator": "GPU",
    "colab": {
      "machine_shape": "hm",
      "provenance": []
    },
    "gpuClass": "standard",
    "kernelspec": {
      "display_name": "Python 3",
      "name": "python3"
    },
    "language_info": {
      "name": "python"
    }
  },
  "nbformat": 4,
  "nbformat_minor": 0
}